{
 "cells": [
  {
   "cell_type": "code",
   "execution_count": 57,
   "id": "ae9b5f02",
   "metadata": {},
   "outputs": [],
   "source": [
    "import random\n",
    "import string\n",
    "\n",
    "class ShortURLFinal:    \n",
    "    # Class: group all variables/attributes and functions/methods into a single logical unit\n",
    "    \n",
    "    URLPrefix = \"https://www.shortURL.com/\";\n",
    "    \n",
    "    def __init__(self): # constructor; not must, but, good to have;  initialize all attributes here\n",
    "        self.d=dict();  #crating (self).d dictionary\n",
    "\n",
    "    # given a long URL, get a short URL\n",
    "    def getShortURL(self, longURL): # first argument to all methods is \"self\" => this object\n",
    "                                 \n",
    "        l = random.randint(4,9);  # length = random value in 4-9\n",
    "        \n",
    "\n",
    "        # generate random characters of uppercase, lowercase and Numbers into a string of length l\n",
    "        chars1 = string.ascii_lowercase\n",
    "        chars2 = string.ascii_uppercase\n",
    "        num=string.digits\n",
    "        shortURL = ''.join(random.choice(chars1+chars2+num) for i in range(l))\n",
    "        \n",
    "\n",
    "        # check if this string is already present in dict d\n",
    "        if shortURL in self.d:\n",
    "            return getShortURL(longURL);  # going to getShortURL(longURL) and run it again \n",
    "        else:\n",
    "            self.d[shortURL] = longURL;  #store longURL in dict d using key ShortURL\n",
    "\n",
    "        \n",
    "        r = self.URLPrefix + shortURL  #concatenate 2 strings\n",
    "        return r;                      # return shortURL\n",
    "\n",
    "    def getLongURL(self, shortURL):\n",
    "\n",
    "       # print(self.d); # print statemnt for debugging\n",
    "        \n",
    "        # extarct key from URL https://www.shortURL.com/mxzmuis ---> mxzmuis\n",
    "        k = shortURL[25:];\n",
    "        \n",
    "\n",
    "        if k in self.d:        #checking k in dict d \n",
    "            return self.d[k]; # return LongURL\n",
    "        else:\n",
    "            \n",
    "            return None;       # Or printing None\n"
   ]
  },
  {
   "cell_type": "code",
   "execution_count": 2,
   "id": "788a7b94",
   "metadata": {},
   "outputs": [],
   "source": []
  },
  {
   "cell_type": "code",
   "execution_count": 63,
   "id": "4bf241f5",
   "metadata": {},
   "outputs": [
    {
     "name": "stdout",
     "output_type": "stream",
     "text": [
      "https://www.shortURL.com/cyxPGac6X\n"
     ]
    }
   ],
   "source": [
    "s = ShortURLFinal();\n",
    "\n",
    "print(s.getShortURL(\"https://github.com/Birwadkarprajwal/python_project\"))\n"
   ]
  },
  {
   "cell_type": "code",
   "execution_count": 64,
   "id": "351eb357",
   "metadata": {},
   "outputs": [
    {
     "name": "stdout",
     "output_type": "stream",
     "text": [
      "https://github.com/Birwadkarprajwal/python_project\n"
     ]
    }
   ],
   "source": [
    "print(s.getLongURL(\"https://www.shortURL.com/cyxPGac6X\"))"
   ]
  },
  {
   "cell_type": "code",
   "execution_count": null,
   "id": "c0d90bd1",
   "metadata": {},
   "outputs": [],
   "source": []
  }
 ],
 "metadata": {
  "kernelspec": {
   "display_name": "Python 3 (ipykernel)",
   "language": "python",
   "name": "python3"
  },
  "language_info": {
   "codemirror_mode": {
    "name": "ipython",
    "version": 3
   },
   "file_extension": ".py",
   "mimetype": "text/x-python",
   "name": "python",
   "nbconvert_exporter": "python",
   "pygments_lexer": "ipython3",
   "version": "3.9.7"
  }
 },
 "nbformat": 4,
 "nbformat_minor": 5
}
